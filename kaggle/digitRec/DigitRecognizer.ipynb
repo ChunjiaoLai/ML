{
 "cells": [
  {
   "cell_type": "markdown",
   "id": "c28628e1",
   "metadata": {},
   "source": [
    "# Kaggle:  Digit Recognizer"
   ]
  },
  {
   "cell_type": "code",
   "execution_count": 90,
   "id": "1e9f2df1",
   "metadata": {},
   "outputs": [],
   "source": [
    "import os\n",
    "import sys\n",
    "import numpy as np \n",
    "import pandas as pd\n",
    "\n",
    "import tensorflow as tf\n",
    "import tensorflow.keras as keras\n",
    "\n",
    "from matplotlib import pyplot as plt\n",
    "\n",
    "%matplotlib inline\n"
   ]
  },
  {
   "cell_type": "markdown",
   "id": "c09a6842",
   "metadata": {},
   "source": [
    "### Prepare Data \n",
    "\n",
    "- Split training data to train features and train label\n",
    "- Reshape to tensor input\n",
    "- Rescale\n"
   ]
  },
  {
   "cell_type": "code",
   "execution_count": 91,
   "id": "9ebbdf79",
   "metadata": {},
   "outputs": [],
   "source": [
    "train_file = 'train.csv'\n",
    "test_file  = 'test.csv'\n",
    "\n",
    "\n",
    "def load_data(train_file=None,test_file=None):\n",
    "    curdir = os.getcwd()\n",
    "    train_data_file = os.path.join(curdir,train_file)\n",
    "    test_data_file = os.path.join(curdir,test_file)\n",
    "    \n",
    "\n",
    "    if not os.path.exists(train_data_file) or not os.path.exists(test_data_file):\n",
    "        print(\"Excepted data files does not exist\")\n",
    "        os.system(1)\n",
    "\n",
    "    train_data     =  pd.read_csv(train_data_file)\n",
    "    test_data      =  pd.read_csv(test_data_file)\n",
    "    test_data      =  test_data.values \n",
    "       \n",
    "    train_features = train_data.drop(columns=['label'])\n",
    "    train_label    = train_data['label']\n",
    "   \n",
    "    #vectorize \n",
    "    train_features = train_features.values\n",
    "    train_label    = train_label.values\n",
    "    train_features = np.reshape(train_features,(train_features.shape[0],28,28,1))\n",
    "    test_data      =  np.reshape(test_data,(test_data.shape[0],28,28,1))\n",
    "    \n",
    "    #rescale\n",
    "    train_features = train_features.astype('float32') / 255.0\n",
    "    train_label   = keras.utils.to_categorical(train_label)\n",
    "\n",
    "\n",
    "    return train_features,train_label,test_data\n",
    " \n",
    "\n",
    "\n",
    "train_x,train_y,test_data = load_data(train_file=train_file,test_file=test_file)"
   ]
  },
  {
   "cell_type": "markdown",
   "id": "83c4d2d9",
   "metadata": {},
   "source": [
    "### Build CNN Model\n",
    "\n",
    "- Use Sequential Model\n",
    "- Two Conv2D layers (32 nodes, relu as activation function)\n",
    "- Enable (2,2) MaxPooling after each Conv2D layer\n",
    "- Flatten (from Conv2D to Dense Layer)\n",
    "- One Dense layer with 64 nodes\n",
    "- Last layer with 10 nodes (mapping to 0-9 digits prediction)\n",
    "\n",
    "model compile:\n",
    "- optimizer: adam\n",
    "- loss function: categorical_crossentropy as it is multi classrification problem\n",
    "- metrics: accuracy \n",
    "\n"
   ]
  },
  {
   "cell_type": "code",
   "execution_count": 92,
   "id": "b8d90fc3",
   "metadata": {},
   "outputs": [
    {
     "name": "stdout",
     "output_type": "stream",
     "text": [
      "Model: \"sequential_2\"\n",
      "_________________________________________________________________\n",
      " Layer (type)                Output Shape              Param #   \n",
      "=================================================================\n",
      " conv2d_4 (Conv2D)           (None, 26, 26, 32)        320       \n",
      "                                                                 \n",
      " max_pooling2d_4 (MaxPooling  (None, 13, 13, 32)       0         \n",
      " 2D)                                                             \n",
      "                                                                 \n",
      " conv2d_5 (Conv2D)           (None, 11, 11, 32)        9248      \n",
      "                                                                 \n",
      " max_pooling2d_5 (MaxPooling  (None, 5, 5, 32)         0         \n",
      " 2D)                                                             \n",
      "                                                                 \n",
      " flatten_2 (Flatten)         (None, 800)               0         \n",
      "                                                                 \n",
      " dense_4 (Dense)             (None, 64)                51264     \n",
      "                                                                 \n",
      " dense_5 (Dense)             (None, 10)                650       \n",
      "                                                                 \n",
      "=================================================================\n",
      "Total params: 61,482\n",
      "Trainable params: 61,482\n",
      "Non-trainable params: 0\n",
      "_________________________________________________________________\n"
     ]
    }
   ],
   "source": [
    "def build_CNN_model():\n",
    "    model = keras.models.Sequential()\n",
    "    model.add(keras.layers.Conv2D(32,(3,3),activation='relu',input_shape=(28,28,1)))\n",
    "    model.add(keras.layers.MaxPooling2D((2, 2)))\n",
    "    model.add(keras.layers.Conv2D(32,(3,3),activation='relu'))\n",
    "    model.add(keras.layers.MaxPooling2D((2, 2)))     \n",
    "    model.add(keras.layers.Flatten())  \n",
    "    model.add(keras.layers.Dense(64,activation='relu'))\n",
    "    model.add(keras.layers.Dense(10,activation='softmax'))\n",
    "\n",
    "    model.summary()\n",
    "    model.compile(optimizer='adam',loss='categorical_crossentropy',metrics=['accuracy'])\n",
    "    \n",
    "    return model\n",
    "\n",
    "\n",
    "model = build_CNN_model()"
   ]
  },
  {
   "cell_type": "markdown",
   "id": "1582eff6",
   "metadata": {},
   "source": [
    "Train and Evaluate model\n",
    "\n",
    "- Split train data in 80-20 train-validate sets\n",
    "- Try different epoch size\n",
    "- Plot and evaluate train accuracy abd validate accuracy agains epoch\n"
   ]
  },
  {
   "cell_type": "code",
   "execution_count": 94,
   "id": "f1b82a6c",
   "metadata": {},
   "outputs": [
    {
     "name": "stdout",
     "output_type": "stream",
     "text": [
      "Epoch 1/10\n",
      "1050/1050 [==============================] - 13s 12ms/step - loss: 0.0427 - accuracy: 0.9869 - val_loss: 0.0528 - val_accuracy: 0.9835\n",
      "Epoch 2/10\n",
      "1050/1050 [==============================] - 13s 13ms/step - loss: 0.0322 - accuracy: 0.9900 - val_loss: 0.0432 - val_accuracy: 0.9876\n",
      "Epoch 3/10\n",
      "1050/1050 [==============================] - 13s 13ms/step - loss: 0.0255 - accuracy: 0.9915 - val_loss: 0.0490 - val_accuracy: 0.9854\n",
      "Epoch 4/10\n",
      "1050/1050 [==============================] - 14s 13ms/step - loss: 0.0205 - accuracy: 0.9934 - val_loss: 0.0488 - val_accuracy: 0.9880\n",
      "Epoch 5/10\n",
      "1050/1050 [==============================] - 13s 13ms/step - loss: 0.0168 - accuracy: 0.9943 - val_loss: 0.0445 - val_accuracy: 0.9887\n",
      "Epoch 6/10\n",
      "1050/1050 [==============================] - 14s 13ms/step - loss: 0.0136 - accuracy: 0.9952 - val_loss: 0.0428 - val_accuracy: 0.9888\n",
      "Epoch 7/10\n",
      "1050/1050 [==============================] - 14s 14ms/step - loss: 0.0120 - accuracy: 0.9961 - val_loss: 0.0434 - val_accuracy: 0.9904\n",
      "Epoch 8/10\n",
      "1050/1050 [==============================] - 14s 13ms/step - loss: 0.0101 - accuracy: 0.9967 - val_loss: 0.0588 - val_accuracy: 0.9868\n",
      "Epoch 9/10\n",
      "1050/1050 [==============================] - 14s 13ms/step - loss: 0.0062 - accuracy: 0.9980 - val_loss: 0.0493 - val_accuracy: 0.9893\n",
      "Epoch 10/10\n",
      "1050/1050 [==============================] - 14s 13ms/step - loss: 0.0083 - accuracy: 0.9970 - val_loss: 0.0585 - val_accuracy: 0.9864\n"
     ]
    },
    {
     "data": {
      "image/png": "[encoded data removed]",
      "text/plain": [
       "<Figure size 432x288 with 1 Axes>"
      ]
     },
     "metadata": {
      "needs_background": "light"
     },
     "output_type": "display_data"
    }
   ],
   "source": [
    "val_result = []\n",
    "epoch_size = 10\n",
    "\n",
    "history = model.fit(train_x,train_y,validation_split=0.2,epochs=epoch_size,batch_size=32,shuffle=True,verbose=True)\n",
    "\n",
    "#plot train and validate accuracy vs epoch\n",
    "plt.plot(history.history['accuracy'])\n",
    "plt.plot(history.history['val_accuracy'])\n",
    "plt.title('Model Accuracy')\n",
    "plt.xlabel('Epoch')\n",
    "plt.ylabel('Accuracy')\n",
    "plt.legend(['Train', 'Validate'], loc='upper left')\n",
    "plt.show()\n",
    "\n"
   ]
  },
  {
   "cell_type": "code",
   "execution_count": 95,
   "id": "6ca6d1c1",
   "metadata": {},
   "outputs": [
    {
     "name": "stdout",
     "output_type": "stream",
     "text": [
      "Epoch 1/6\n",
      "1050/1050 [==============================] - 13s 12ms/step - loss: 0.0062 - accuracy: 0.9977 - val_loss: 0.0649 - val_accuracy: 0.9879\n",
      "Epoch 2/6\n",
      "1050/1050 [==============================] - 15s 14ms/step - loss: 0.0089 - accuracy: 0.9970 - val_loss: 0.0471 - val_accuracy: 0.9905\n",
      "Epoch 3/6\n",
      "1050/1050 [==============================] - 13s 13ms/step - loss: 0.0031 - accuracy: 0.9988 - val_loss: 0.0561 - val_accuracy: 0.9888\n",
      "Epoch 4/6\n",
      "1050/1050 [==============================] - 14s 14ms/step - loss: 0.0063 - accuracy: 0.9976 - val_loss: 0.0714 - val_accuracy: 0.9876\n",
      "Epoch 5/6\n",
      "1050/1050 [==============================] - 13s 13ms/step - loss: 0.0043 - accuracy: 0.9987 - val_loss: 0.0598 - val_accuracy: 0.9892\n",
      "Epoch 6/6\n",
      "1050/1050 [==============================] - 14s 13ms/step - loss: 0.0041 - accuracy: 0.9984 - val_loss: 0.0625 - val_accuracy: 0.9886\n"
     ]
    },
    {
     "data": {
      "text/plain": [
       "<keras.callbacks.History at 0x7f303033b8b0>"
      ]
     },
     "execution_count": 95,
     "metadata": {},
     "output_type": "execute_result"
    }
   ],
   "source": [
    "### Finalize model \n",
    "best_epoch_size = 6\n",
    "model.fit(train_x,train_y,validation_split=0.2,epochs=best_epoch_size,batch_size=32,shuffle=True,verbose=True)\n",
    "\n"
   ]
  },
  {
   "cell_type": "markdown",
   "id": "686394d7",
   "metadata": {},
   "source": [
    "### Predict on test data "
   ]
  },
  {
   "cell_type": "code",
   "execution_count": 96,
   "id": "c5179591",
   "metadata": {},
   "outputs": [
    {
     "name": "stdout",
     "output_type": "stream",
     "text": [
      "Prediction: 9\n"
     ]
    },
    {
     "data": {
      "image/png": "[encoded data removed]",
      "text/plain": [
       "<Figure size 432x288 with 1 Axes>"
      ]
     },
     "metadata": {
      "needs_background": "light"
     },
     "output_type": "display_data"
    },
    {
     "name": "stdout",
     "output_type": "stream",
     "text": [
      "Prediction: 4\n"
     ]
    },
    {
     "data": {
      "image/png": "[encoded data removed]",
      "text/plain": [
       "<Figure size 432x288 with 1 Axes>"
      ]
     },
     "metadata": {
      "needs_background": "light"
     },
     "output_type": "display_data"
    },
    {
     "name": "stdout",
     "output_type": "stream",
     "text": [
      "Prediction: 6\n"
     ]
    },
    {
     "data": {
      "image/png": "[encoded data removed]",
      "text/plain": [
       "<Figure size 432x288 with 1 Axes>"
      ]
     },
     "metadata": {
      "needs_background": "light"
     },
     "output_type": "display_data"
    },
    {
     "name": "stdout",
     "output_type": "stream",
     "text": [
      "Prediction: 4\n"
     ]
    },
    {
     "data": {
      "image/png": "[encoded data removed]",
      "text/plain": [
       "<Figure size 432x288 with 1 Axes>"
      ]
     },
     "metadata": {
      "needs_background": "light"
     },
     "output_type": "display_data"
    },
    {
     "name": "stdout",
     "output_type": "stream",
     "text": [
      "Prediction: 6\n"
     ]
    },
    {
     "data": {
      "image/png": "[encoded data removed]",
      "text/plain": [
       "<Figure size 432x288 with 1 Axes>"
      ]
     },
     "metadata": {
      "needs_background": "light"
     },
     "output_type": "display_data"
    },
    {
     "name": "stdout",
     "output_type": "stream",
     "text": [
      "Prediction: 4\n"
     ]
    },
    {
     "data": {
      "image/png": "[encoded data removed]",
      "text/plain": [
       "<Figure size 432x288 with 1 Axes>"
      ]
     },
     "metadata": {
      "needs_background": "light"
     },
     "output_type": "display_data"
    },
    {
     "name": "stdout",
     "output_type": "stream",
     "text": [
      "Prediction: 2\n"
     ]
    },
    {
     "data": {
      "image/png": "[encoded data removed]",
      "text/plain": [
       "<Figure size 432x288 with 1 Axes>"
      ]
     },
     "metadata": {
      "needs_background": "light"
     },
     "output_type": "display_data"
    },
    {
     "name": "stdout",
     "output_type": "stream",
     "text": [
      "Prediction: 8\n"
     ]
    },
    {
     "data": {
      "image/png": "[encoded data removed]",
      "text/plain": [
       "<Figure size 432x288 with 1 Axes>"
      ]
     },
     "metadata": {
      "needs_background": "light"
     },
     "output_type": "display_data"
    },
    {
     "name": "stdout",
     "output_type": "stream",
     "text": [
      "Prediction: 7\n"
     ]
    },
    {
     "data": {
      "image/png": "[encoded data removed]",
      "text/plain": [
       "<Figure size 432x288 with 1 Axes>"
      ]
     },
     "metadata": {
      "needs_background": "light"
     },
     "output_type": "display_data"
    },
    {
     "name": "stdout",
     "output_type": "stream",
     "text": [
      "Prediction: 1\n"
     ]
    },
    {
     "data": {
      "image/png": "[encoded data removed]",
      "text/plain": [
       "<Figure size 432x288 with 1 Axes>"
      ]
     },
     "metadata": {
      "needs_background": "light"
     },
     "output_type": "display_data"
    }
   ],
   "source": [
    "predictions_raw = model.predict(test_data)\n",
    "predictions = np.argmax(predictions_raw,axis=1)\n",
    "\n",
    "#submissions to Kaggle\n",
    "submissions = pd.DataFrame({'ImageId': np.arange(1, predictions.shape[0]+1), 'Label': predictions})    \n",
    "submissions.to_csv('submission.csv', index=False)\n",
    "\n",
    "#visualize random ten predict results\n",
    "for i in range(10):\n",
    "    figure = plt.figure()\n",
    "    figure.add_subplot(3,4,(i+1))\n",
    "    idx = np.random.randint(len(test_data))\n",
    "    plt.imshow(test_data[idx])\n",
    "    print(\"Prediction: {}\".format(predictions[idx]))\n",
    "    plt.show(block=True)\n",
    "    \n"
   ]
  },
  {
   "cell_type": "code",
   "execution_count": null,
   "id": "edb98948",
   "metadata": {},
   "outputs": [],
   "source": []
  }
 ],
 "metadata": {
  "kernelspec": {
   "display_name": "Python 3 (ipykernel)",
   "language": "python",
   "name": "python3"
  },
  "language_info": {
   "codemirror_mode": {
    "name": "ipython",
    "version": 3
   },
   "file_extension": ".py",
   "mimetype": "text/x-python",
   "name": "python",
   "nbconvert_exporter": "python",
   "pygments_lexer": "ipython3",
   "version": "3.8.10"
  }
 },
 "nbformat": 4,
 "nbformat_minor": 5
}
